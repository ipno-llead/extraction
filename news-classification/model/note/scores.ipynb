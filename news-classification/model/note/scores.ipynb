{
 "cells": [
  {
   "cell_type": "code",
   "execution_count": 2,
   "metadata": {},
   "outputs": [],
   "source": [
    "import pandas as pd"
   ]
  },
  {
   "cell_type": "code",
   "execution_count": 3,
   "metadata": {},
   "outputs": [],
   "source": [
    "os.chdir(\"../\")"
   ]
  },
  {
   "cell_type": "code",
   "execution_count": 4,
   "metadata": {},
   "outputs": [],
   "source": [
    "df = pd.read_parquet(\"output/test-scores.parquet\")"
   ]
  },
  {
   "cell_type": "code",
   "execution_count": 6,
   "metadata": {},
   "outputs": [],
   "source": [
    "def relevant(df):\n",
    "    df_pos = df[(df.relevant.astype(str).isin([\"1\"]))]\n",
    "    avg_0_pos = df_pos.score_0.sum()/len(df_pos)\n",
    "    avg_1_pos = df_pos.score_1.sum()/len(df_pos)\n",
    "    return avg_0_pos, avg_1_pos, df_pos\n",
    "\n",
    "def irrelevant(df):\n",
    "    df_neg = df[(df.relevant.astype(str).isin([\"0\"]))]\n",
    "    avg_0_neg = df_neg.score_0.sum()/len(df_neg)\n",
    "    avg_1_neg = df_neg.score_1.sum()/len(df_neg)\n",
    "    return avg_0_neg, avg_1_neg, df_neg"
   ]
  },
  {
   "cell_type": "code",
   "execution_count": 7,
   "metadata": {},
   "outputs": [
    {
     "name": "stdout",
     "output_type": "stream",
     "text": [
      "relevant test data:  (120, 5)\n",
      "avg pred of score 0 for relevant data:  0.48043773050109545\n",
      "avg pred of score 1 for relevant data:  0.5195622722307841\n",
      "\n",
      "irrelevant test data:  (50, 5)\n",
      "avg pred of score 0 for irrelevant data:  0.48014698445796966\n",
      "avg pred of score 1 for irrelevant data:  0.5198530107736588\n"
     ]
    }
   ],
   "source": [
    "avg_0_pos, avg_1_pos, df_pos = relevant(df)\n",
    "print(\"relevant test data: \", df_pos.shape)\n",
    "print(\"avg pred of score 0 for relevant data: \", avg_0_pos)\n",
    "print(\"avg pred of score 1 for relevant data: \", avg_1_pos)\n",
    "\n",
    "avg_0_neg, avg_1_neg, df_neg = irrelevant(df)\n",
    "print(\"\\nirrelevant test data: \", df_neg.shape)\n",
    "print(\"avg pred of score 0 for irrelevant data: \", avg_0_neg)\n",
    "print(\"avg pred of score 1 for irrelevant data: \", avg_1_neg)"
   ]
  }
 ],
 "metadata": {
  "kernelspec": {
   "display_name": "Python 3.9.6 64-bit",
   "language": "python",
   "name": "python3"
  },
  "language_info": {
   "codemirror_mode": {
    "name": "ipython",
    "version": 3
   },
   "file_extension": ".py",
   "mimetype": "text/x-python",
   "name": "python",
   "nbconvert_exporter": "python",
   "pygments_lexer": "ipython3",
   "version": "3.9.6"
  },
  "orig_nbformat": 4,
  "vscode": {
   "interpreter": {
    "hash": "2b39864fd3e0aa62051d4419cba233e2fadf75f0476ed92a4314a5f173ad2e07"
   }
  }
 },
 "nbformat": 4,
 "nbformat_minor": 2
}
