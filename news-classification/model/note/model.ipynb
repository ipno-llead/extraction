{
 "cells": [
  {
   "cell_type": "code",
   "execution_count": 8,
   "metadata": {},
   "outputs": [],
   "source": [
    "import pandas as pd\n",
    "from fastai import *\n",
    "from fastai.text.all import *"
   ]
  },
  {
   "cell_type": "code",
   "execution_count": 4,
   "metadata": {},
   "outputs": [],
   "source": [
    "os.chdir(\"../../\")"
   ]
  },
  {
   "cell_type": "code",
   "execution_count": 12,
   "metadata": {},
   "outputs": [],
   "source": [
    "def get_news():\n",
    "    df = pd.read_parquet(\"import/output/news.parquet\")\n",
    "    return df "
   ]
  },
  {
   "cell_type": "code",
   "execution_count": 13,
   "metadata": {},
   "outputs": [],
   "source": [
    "def get_dls_lm(df):\n",
    "    df = df.astype(str)\n",
    "    dls = TextDataLoaders.from_df(df, valid_pct = .1,\n",
    "            text_col='content', is_lm=True, num_workers=4)\n",
    "    return dls"
   ]
  },
  {
   "cell_type": "code",
   "execution_count": 14,
   "metadata": {},
   "outputs": [],
   "source": [
    "def train_lm(dls_lm):\n",
    "    learn = language_model_learner(dls_lm, AWD_LSTM, metrics=[accuracy, Perplexity()], wd=0.1).to_fp16()\n",
    "    return learn"
   ]
  },
  {
   "cell_type": "code",
   "execution_count": null,
   "metadata": {},
   "outputs": [],
   "source": [
    "news = get_news()\n",
    "print(news.columns)\n",
    "dls_lm = get_dls_lm(news)\n",
    "learn_lm = train_lm(dls_lm)"
   ]
  },
  {
   "cell_type": "code",
   "execution_count": 8,
   "metadata": {},
   "outputs": [
    {
     "data": {
      "text/html": [
       "<table border=\"1\" class=\"dataframe\">\n",
       "  <thead>\n",
       "    <tr style=\"text-align: right;\">\n",
       "      <th></th>\n",
       "      <th>text</th>\n",
       "      <th>text_</th>\n",
       "    </tr>\n",
       "  </thead>\n",
       "  <tbody>\n",
       "    <tr>\n",
       "      <th>0</th>\n",
       "      <td>xxbos xxmaj the xxmaj louisiana xxmaj department of xxmaj health gave the go - ahead xxmaj wednesday for medical providers to start xxunk kids between the ages of 5 and 11 with the pfizer - biontech vaccine , clearing the way for a big chunk of xxmaj louisiana ’s population to gain protection against xxup covid-19 . xxmaj the sign - off from xxup ldh came after expert advisory panels from the</td>\n",
       "      <td>xxmaj the xxmaj louisiana xxmaj department of xxmaj health gave the go - ahead xxmaj wednesday for medical providers to start xxunk kids between the ages of 5 and 11 with the pfizer - biontech vaccine , clearing the way for a big chunk of xxmaj louisiana ’s population to gain protection against xxup covid-19 . xxmaj the sign - off from xxup ldh came after expert advisory panels from the xxmaj</td>\n",
       "    </tr>\n",
       "    <tr>\n",
       "      <th>1</th>\n",
       "      <td>mix themselves . xxmaj shaken ? xxmaj stirred ? xxmaj how about xxmaj xxunk ? xxmaj there are a lot of great players playing a lot of great golf these days . xxmaj players such as current world xxmaj no . 1 xxmaj scottie xxmaj scheffler . xxmaj masters rookie and former xxup lsu star xxmaj sam xxmaj burns is xxmaj no . 2 on the fedex xxmaj cup points list .</td>\n",
       "      <td>themselves . xxmaj shaken ? xxmaj stirred ? xxmaj how about xxmaj xxunk ? xxmaj there are a lot of great players playing a lot of great golf these days . xxmaj players such as current world xxmaj no . 1 xxmaj scottie xxmaj scheffler . xxmaj masters rookie and former xxup lsu star xxmaj sam xxmaj burns is xxmaj no . 2 on the fedex xxmaj cup points list . xxmaj</td>\n",
       "    </tr>\n",
       "    <tr>\n",
       "      <th>2</th>\n",
       "      <td>august 4 , 1987 , and was a lifelong area resident . xxmaj she enjoyed spending time with her family and friends . xxmaj survivors include her parents xxmaj adam and xxmaj ronnie xxmaj derouen xxmaj poirrier xxmaj jr . of xxmaj jeanerette ; son xxmaj aaron xxmaj carl xxmaj poirrier of xxmaj jeanerette ; sisters xxmaj rebecca xxup l. xxmaj broussard ( keith ) of xxmaj jeanerette and xxmaj xxunk xxmaj</td>\n",
       "      <td>4 , 1987 , and was a lifelong area resident . xxmaj she enjoyed spending time with her family and friends . xxmaj survivors include her parents xxmaj adam and xxmaj ronnie xxmaj derouen xxmaj poirrier xxmaj jr . of xxmaj jeanerette ; son xxmaj aaron xxmaj carl xxmaj poirrier of xxmaj jeanerette ; sisters xxmaj rebecca xxup l. xxmaj broussard ( keith ) of xxmaj jeanerette and xxmaj xxunk xxmaj kinchen</td>\n",
       "    </tr>\n",
       "    <tr>\n",
       "      <th>3</th>\n",
       "      <td>xxmaj the market at 2727 xxmaj jackson xxmaj street , xxmaj alexandria , saw a record attendance in 2021 and continues to grow . xxmaj in 2021 alone , over 14 , xxrep 3 0 people visited the market , buying fresh food and items from over 30 vendors . xxmaj it is open every xxmaj tuesday from 3 - 6 p.m. and is operated by xxmaj louisiana xxmaj central . xxmaj</td>\n",
       "      <td>the market at 2727 xxmaj jackson xxmaj street , xxmaj alexandria , saw a record attendance in 2021 and continues to grow . xxmaj in 2021 alone , over 14 , xxrep 3 0 people visited the market , buying fresh food and items from over 30 vendors . xxmaj it is open every xxmaj tuesday from 3 - 6 p.m. and is operated by xxmaj louisiana xxmaj central . xxmaj to</td>\n",
       "    </tr>\n",
       "    <tr>\n",
       "      <th>4</th>\n",
       "      <td>said . \\n xxmaj if you have any information about xxmaj ella xxmaj goodie 's whereabouts , you 're encouraged to call xxmaj louisiana xxmaj state xxmaj police at ( 318 ) 484 - 2194 or submit a tip at lsp.org . xxbos xxup new xxup orleans — the xxmaj port of xxmaj new xxmaj orleans said it has been awarded a fifth round of grant funding to continue its award -</td>\n",
       "      <td>. \\n xxmaj if you have any information about xxmaj ella xxmaj goodie 's whereabouts , you 're encouraged to call xxmaj louisiana xxmaj state xxmaj police at ( 318 ) 484 - 2194 or submit a tip at lsp.org . xxbos xxup new xxup orleans — the xxmaj port of xxmaj new xxmaj orleans said it has been awarded a fifth round of grant funding to continue its award - winning</td>\n",
       "    </tr>\n",
       "  </tbody>\n",
       "</table>"
      ],
      "text/plain": [
       "<IPython.core.display.HTML object>"
      ]
     },
     "metadata": {},
     "output_type": "display_data"
    }
   ],
   "source": [
    "dls_lm.show_batch(max_n=5)"
   ]
  },
  {
   "cell_type": "code",
   "execution_count": 9,
   "metadata": {},
   "outputs": [],
   "source": [
    "bs = 128\n",
    "lr = 1e-2\n",
    "lr *= bs/48"
   ]
  },
  {
   "cell_type": "code",
   "execution_count": null,
   "metadata": {},
   "outputs": [],
   "source": [
    "learn_lm.fit_one_cycle(1, lr)"
   ]
  },
  {
   "cell_type": "code",
   "execution_count": null,
   "metadata": {},
   "outputs": [],
   "source": [
    "learn_lm.lr_find()"
   ]
  },
  {
   "cell_type": "code",
   "execution_count": null,
   "metadata": {},
   "outputs": [],
   "source": [
    "learn_lm.save(\"learnlm\")"
   ]
  },
  {
   "cell_type": "code",
   "execution_count": null,
   "metadata": {},
   "outputs": [],
   "source": [
    "learn_lm.load(\"learnlm\")"
   ]
  },
  {
   "cell_type": "code",
   "execution_count": null,
   "metadata": {},
   "outputs": [],
   "source": [
    "learn_lm.unfreeze()\n",
    "learn_lm.fit_one_cycle(10, lr/10)"
   ]
  },
  {
   "cell_type": "code",
   "execution_count": 103,
   "metadata": {},
   "outputs": [],
   "source": [
    "learn_lm.save('learnlm_ftuned')\n",
    "learn_lm.save_encoder('learnlm_ftuned_enc')"
   ]
  },
  {
   "cell_type": "code",
   "execution_count": 37,
   "metadata": {},
   "outputs": [],
   "source": [
    "### additional parameter will be introduced into the classifier model below after training of language model: text_vocab=learn_lm.vocab \n",
    "\n",
    "def get_dls_cm(train_df):\n",
    "    dls_cm = TextDataLoaders.from_df(train_df, valid_pct = .2, text_col='content', is_lm=False, label_col='relevant', \n",
    "    shuffle=True, bs=128, seq_len=72, y_block=CategoryBlock)\n",
    "    return dls_cm"
   ]
  },
  {
   "cell_type": "code",
   "execution_count": null,
   "metadata": {},
   "outputs": [],
   "source": [
    "train_df = pd.read_parquet(\"import/output/train.parquet\")\n",
    "\n",
    "dls_cm = get_dls_cm(train_df)"
   ]
  },
  {
   "cell_type": "code",
   "execution_count": 39,
   "metadata": {},
   "outputs": [
    {
     "data": {
      "text/html": [
       "<table border=\"1\" class=\"dataframe\">\n",
       "  <thead>\n",
       "    <tr style=\"text-align: right;\">\n",
       "      <th></th>\n",
       "      <th>text</th>\n",
       "      <th>category</th>\n",
       "    </tr>\n",
       "  </thead>\n",
       "  <tbody>\n",
       "    <tr>\n",
       "      <th>0</th>\n",
       "      <td>xxbos xxmaj editor ’s xxmaj note : xxmaj this article was produced for propublica ’s xxmaj local xxmaj reporting xxmaj network in partnership with xxup wrfk and xxup wwno . \\n xxmaj when sheriff ’s deputies in xxmaj jefferson xxmaj parish , xxmaj louisiana , pulled over xxmaj octavio xxmaj lopez for an expired inspection tag in 2018 , they wrote on his traffic ticket that he is white . xxmaj lopez , who is from xxmaj nicaragua , is xxmaj hispanic and speaks only xxmaj spanish , said his wife . \\n xxmaj in fact , of the 167 tickets issued by deputies to drivers with the last name xxmaj lopez over a nearly six - year span , not one of the motorists was labeled as xxmaj hispanic , according to records provided by the xxmaj jefferson xxmaj parish clerk of court . xxmaj the same was true</td>\n",
       "      <td>1</td>\n",
       "    </tr>\n",
       "    <tr>\n",
       "      <th>1</th>\n",
       "      <td>xxbos xxmaj editor ’s xxmaj note : xxmaj this article was produced for propublica ’s xxmaj local xxmaj reporting xxmaj network in partnership with xxup wrfk and xxup wwno . \\n xxmaj when sheriff ’s deputies in xxmaj jefferson xxmaj parish , xxmaj louisiana , pulled over xxmaj octavio xxmaj lopez for an expired inspection tag in 2018 , they wrote on his traffic ticket that he is white . xxmaj lopez , who is from xxmaj nicaragua , is xxmaj hispanic and speaks only xxmaj spanish , said his wife . \\n xxmaj in fact , of the 167 tickets issued by deputies to drivers with the last name xxmaj lopez over a nearly six - year span , not one of the motorists was labeled as xxmaj hispanic , according to records provided by the xxmaj jefferson xxmaj parish clerk of court . xxmaj the same was true</td>\n",
       "      <td>1</td>\n",
       "    </tr>\n",
       "    <tr>\n",
       "      <th>2</th>\n",
       "      <td>xxbos xxmaj editor ’s xxmaj note : xxmaj this article was produced for propublica ’s xxmaj local xxmaj reporting xxmaj network in partnership with xxup wrfk and xxup wwno . \\n xxmaj when sheriff ’s deputies in xxmaj jefferson xxmaj parish , xxmaj louisiana , pulled over xxmaj octavio xxmaj lopez for an expired inspection tag in 2018 , they wrote on his traffic ticket that he is white . xxmaj lopez , who is from xxmaj nicaragua , is xxmaj hispanic and speaks only xxmaj spanish , said his wife . \\n xxmaj in fact , of the 167 tickets issued by deputies to drivers with the last name xxmaj lopez over a nearly six - year span , not one of the motorists was labeled as xxmaj hispanic , according to records provided by the xxmaj jefferson xxmaj parish clerk of court . xxmaj the same was true</td>\n",
       "      <td>1</td>\n",
       "    </tr>\n",
       "  </tbody>\n",
       "</table>"
      ],
      "text/plain": [
       "<IPython.core.display.HTML object>"
      ]
     },
     "metadata": {},
     "output_type": "display_data"
    }
   ],
   "source": [
    "dls_cm.show_batch(max_n=3)"
   ]
  },
  {
   "cell_type": "code",
   "execution_count": 40,
   "metadata": {},
   "outputs": [],
   "source": [
    "model = text_classifier_learner(dls_cm, AWD_LSTM, drop_mult=.5, metrics=accuracy)"
   ]
  },
  {
   "cell_type": "code",
   "execution_count": null,
   "metadata": {},
   "outputs": [],
   "source": [
    "model.load_encoder(\"learnlm_ftuned\")"
   ]
  },
  {
   "cell_type": "code",
   "execution_count": 41,
   "metadata": {},
   "outputs": [],
   "source": [
    "model.freeze()"
   ]
  },
  {
   "cell_type": "code",
   "execution_count": 47,
   "metadata": {},
   "outputs": [],
   "source": [
    "bs = 128\n",
    "lr = 2e-2\n",
    "lr *= bs/128"
   ]
  },
  {
   "cell_type": "code",
   "execution_count": null,
   "metadata": {},
   "outputs": [],
   "source": [
    "model.fit_one_cycle(10, lr)\n",
    "# 70% acc with .2 valid, .5 drop, 128 bs, 2e-2 loss\n",
    "# keep this training rate, but add epochs and see what happens. \n",
    "# (batch size increase from 64 to 128 increased accuracy by 10 points)\n"
   ]
  },
  {
   "cell_type": "code",
   "execution_count": null,
   "metadata": {},
   "outputs": [],
   "source": [
    "model.lr_find()"
   ]
  },
  {
   "cell_type": "code",
   "execution_count": null,
   "metadata": {},
   "outputs": [],
   "source": [
    "model.freeze_to(-3) \n",
    "model.fit_one_cycle(10, slice(1e-2/(2.6**4),1e-2))"
   ]
  },
  {
   "cell_type": "code",
   "execution_count": null,
   "metadata": {},
   "outputs": [],
   "source": [
    "model.lr_find()"
   ]
  },
  {
   "cell_type": "code",
   "execution_count": null,
   "metadata": {},
   "outputs": [],
   "source": [
    "model.freeze_to(-5) \n",
    "model.fit_one_cycle(5, slice(2e-2/(2.6**4),2e-2))"
   ]
  },
  {
   "cell_type": "code",
   "execution_count": null,
   "metadata": {},
   "outputs": [],
   "source": [
    "model.unfreeze()\n",
    "model.fit_one_cycle(3, slice(2e-3/(2.6**4),2e-3))"
   ]
  },
  {
   "cell_type": "code",
   "execution_count": null,
   "metadata": {},
   "outputs": [],
   "source": [
    "model.save(\"model\")"
   ]
  },
  {
   "cell_type": "code",
   "execution_count": 41,
   "metadata": {},
   "outputs": [
    {
     "data": {
      "text/html": [
       "\n",
       "<style>\n",
       "    /* Turns off some styling */\n",
       "    progress {\n",
       "        /* gets rid of default border in Firefox and Opera. */\n",
       "        border: none;\n",
       "        /* Needs to be in here for Safari polyfill so background images work as expected. */\n",
       "        background-size: auto;\n",
       "    }\n",
       "    .progress-bar-interrupted, .progress-bar-interrupted::-webkit-progress-bar {\n",
       "        background: #F44336;\n",
       "    }\n",
       "</style>\n"
      ],
      "text/plain": [
       "<IPython.core.display.HTML object>"
      ]
     },
     "metadata": {},
     "output_type": "display_data"
    },
    {
     "data": {
      "text/html": [],
      "text/plain": [
       "<IPython.core.display.HTML object>"
      ]
     },
     "metadata": {},
     "output_type": "display_data"
    },
    {
     "data": {
      "text/html": [
       "\n",
       "<style>\n",
       "    /* Turns off some styling */\n",
       "    progress {\n",
       "        /* gets rid of default border in Firefox and Opera. */\n",
       "        border: none;\n",
       "        /* Needs to be in here for Safari polyfill so background images work as expected. */\n",
       "        background-size: auto;\n",
       "    }\n",
       "    .progress-bar-interrupted, .progress-bar-interrupted::-webkit-progress-bar {\n",
       "        background: #F44336;\n",
       "    }\n",
       "</style>\n"
      ],
      "text/plain": [
       "<IPython.core.display.HTML object>"
      ]
     },
     "metadata": {},
     "output_type": "display_data"
    },
    {
     "data": {
      "text/html": [],
      "text/plain": [
       "<IPython.core.display.HTML object>"
      ]
     },
     "metadata": {},
     "output_type": "display_data"
    },
    {
     "data": {
      "image/png": "[encoded data removed]",
      "text/plain": [
       "<Figure size 720x720 with 1 Axes>"
      ]
     },
     "metadata": {
      "needs_background": "light"
     },
     "output_type": "display_data"
    }
   ],
   "source": [
    "interp = ClassificationInterpretation.from_learner(learn_lm)\n",
    "\n",
    "losses,idxs = interp.top_losses()\n",
    "\n",
    "interp.plot_confusion_matrix(figsize=(12,12), dpi=60)"
   ]
  }
 ],
 "metadata": {
  "interpreter": {
   "hash": "2b39864fd3e0aa62051d4419cba233e2fadf75f0476ed92a4314a5f173ad2e07"
  },
  "kernelspec": {
   "display_name": "Python 3.9.6 64-bit",
   "language": "python",
   "name": "python3"
  },
  "language_info": {
   "codemirror_mode": {
    "name": "ipython",
    "version": 3
   },
   "file_extension": ".py",
   "mimetype": "text/x-python",
   "name": "python",
   "nbconvert_exporter": "python",
   "pygments_lexer": "ipython3",
   "version": "3.9.6"
  },
  "orig_nbformat": 4
 },
 "nbformat": 4,
 "nbformat_minor": 2
}
